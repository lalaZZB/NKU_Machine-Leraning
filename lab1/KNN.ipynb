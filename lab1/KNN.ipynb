{
 "cells": [
  {
   "cell_type": "markdown",
   "id": "8912380d-3856-4bc4-a879-2a2e4ed151de",
   "metadata": {},
   "source": [
    "# 实验一：KNN——基于KNN的手写数字识别"
   ]
  },
  {
   "cell_type": "markdown",
   "id": "6189c150-a328-462d-bc74-4275ead86f2c",
   "metadata": {},
   "source": [
    "## 实验条件：给定semeion手写数字数据集，给定kNN分类算法\n",
    "\n",
    "1. 初级要求：编程实现kNN算法；给出在不同k值（5，9，13）情况下，kNN算法对手写数字的识别精度（要求采用留一法）\n",
    "2. 中级要求：与机器学习包或平台(如weka)中的kNN分类器结果进行对比，性能指标为精度ACC，其他指标如归一化互信息NMI、混淆熵CEN任选其一（或两者）\n",
    "3. 高级要求：采用旋转等手段对原始数据进行处理，进行至少两个方向（左上，左下）旋转，采用CNN或其他深度学习方法实现手写体识别"
   ]
  },
  {
   "cell_type": "markdown",
   "id": "43b149dd-3106-41fb-ba98-5d4a119fe67e",
   "metadata": {},
   "source": [
    "## 1.初级要求：\n",
    "###     编程实现kNN算法；给出在不同k值（5，9，13）情况下，kNN算法对手写数字的识别精度（要求采用留一法）"
   ]
  },
  {
   "cell_type": "code",
   "execution_count": 2,
   "id": "20a397a8-8ab3-49d8-87be-e0b2bd25fd8c",
   "metadata": {},
   "outputs": [
    {
     "name": "stdout",
     "output_type": "stream",
     "text": [
      "k=5, Accuracy=0.9140\n",
      "k=9, Accuracy=0.9240\n",
      "k=13, Accuracy=0.9153\n"
     ]
    }
   ],
   "source": [
    "import numpy as np\n",
    "from collections import Counter\n",
    "\n",
    "\n",
    "# 读取 Semeion 数据集\n",
    "def load_semeion_data(file_path):\n",
    "    data = np.loadtxt(file_path)\n",
    "    features = data[:, :256]  # 前256列为特征\n",
    "    labels = np.argmax(data[:, 256:], axis=1)  # 后10列为one-hot编码的标签\n",
    "    return features, labels\n",
    "\n",
    "\n",
    "# 计算欧氏距离\n",
    "def euclidean_distance(a, b):\n",
    "    return np.sqrt(np.sum((a - b) ** 2))\n",
    "\n",
    "\n",
    "# kNN算法实现\n",
    "def knn(train_data, train_labels, test_data, k):\n",
    "    distances = []\n",
    "    for i in range(len(train_data)):\n",
    "        dist = euclidean_distance(train_data[i], test_data)\n",
    "        distances.append((dist, train_labels[i]))\n",
    "\n",
    "    distances.sort(key=lambda x: x[0])\n",
    "    k_nearest_neighbors = [label for _, label in distances[:k]]\n",
    "\n",
    "    most_common_label = Counter(k_nearest_neighbors).most_common(1)[0][0]\n",
    "    return most_common_label\n",
    "\n",
    "\n",
    "# 留一法实现\n",
    "def loocv_knn(data, labels, k):\n",
    "    correct_predictions = 0\n",
    "\n",
    "    for i in range(len(data)):\n",
    "        test_data = data[i]\n",
    "        test_label = labels[i]\n",
    "\n",
    "        train_data = np.delete(data, i, axis=0)\n",
    "        train_labels = np.delete(labels, i)\n",
    "\n",
    "        predicted_label = knn(train_data, train_labels, test_data, k)\n",
    "\n",
    "        if predicted_label == test_label:\n",
    "            correct_predictions += 1\n",
    "\n",
    "    accuracy = correct_predictions / len(data)\n",
    "    return accuracy\n",
    "\n",
    "\n",
    "# 加载数据\n",
    "file_path = 'semeion.data'\n",
    "features, labels = load_semeion_data(file_path)\n",
    "\n",
    "# 计算不同k值下的识别精度\n",
    "k_values = [5, 9, 13]\n",
    "for k in k_values:\n",
    "    accuracy = loocv_knn(features, labels, k)\n",
    "    print(f'k={k}, Accuracy={accuracy:.4f}')\n"
   ]
  },
  {
   "cell_type": "markdown",
   "id": "6ac28647-a20f-407c-a81e-70b76d28ad9d",
   "metadata": {},
   "source": [
    "## 2.中级要求：\n",
    "### 与机器学习包或平台(如weka)中的kNN分类器结果进行对比，性能指标为精度ACC，其他指标如归一化互信息NMI、混淆熵CEN任选其一（或两者）"
   ]
  },
  {
   "cell_type": "code",
   "execution_count": 4,
   "id": "1e2bddce-25d4-47b5-8e9f-8a5aef27061f",
   "metadata": {},
   "outputs": [
    {
     "name": "stdout",
     "output_type": "stream",
     "text": [
      "Self-implemented kNN (k=5), Accuracy=0.9140\n",
      "Scikit-learn kNN (k=5), Accuracy=0.9341\n",
      "Self-implemented kNN (k=5), NMI=0.8372\n",
      "Scikit-learn kNN (k=5), NMI=0.8722\n",
      "Self-implemented kNN (k=5), CEN=2.6725\n",
      "Scikit-learn kNN (k=5), CEN=2.5929\n"
     ]
    }
   ],
   "source": [
    "import numpy as np\n",
    "from collections import Counter\n",
    "from sklearn.neighbors import KNeighborsClassifier\n",
    "from sklearn.metrics import accuracy_score, normalized_mutual_info_score, confusion_matrix\n",
    "import scipy.stats\n",
    "\n",
    "\n",
    "# 加载 Semeion 数据集\n",
    "def load_semeion_data(file_path):\n",
    "    data = np.loadtxt(file_path)\n",
    "    features = data[:, :256]  # 前256列为特征\n",
    "    labels = np.argmax(data[:, 256:], axis=1)  # 后10列为one-hot编码的标签\n",
    "    return features, labels\n",
    "\n",
    "\n",
    "# 自实现 kNN 算法\n",
    "def euclidean_distance(a, b):\n",
    "    return np.sqrt(np.sum((a - b) ** 2))\n",
    "\n",
    "\n",
    "def knn(train_data, train_labels, test_data, k):\n",
    "    distances = []\n",
    "    for i in range(len(train_data)):\n",
    "        dist = euclidean_distance(train_data[i], test_data)\n",
    "        distances.append((dist, train_labels[i]))\n",
    "\n",
    "    distances.sort(key=lambda x: x[0])\n",
    "    k_nearest_neighbors = [label for _, label in distances[:k]]\n",
    "\n",
    "    most_common_label = Counter(k_nearest_neighbors).most_common(1)[0][0]\n",
    "    return most_common_label\n",
    "\n",
    "\n",
    "def loocv_knn(data, labels, k):\n",
    "    correct_predictions = 0\n",
    "    predicted_labels = []\n",
    "\n",
    "    for i in range(len(data)):\n",
    "        test_data = data[i]\n",
    "        test_label = labels[i]\n",
    "\n",
    "        train_data = np.delete(data, i, axis=0)\n",
    "        train_labels = np.delete(labels, i)\n",
    "\n",
    "        predicted_label = knn(train_data, train_labels, test_data, k)\n",
    "        predicted_labels.append(predicted_label)\n",
    "\n",
    "        if predicted_label == test_label:\n",
    "            correct_predictions += 1\n",
    "\n",
    "    accuracy = correct_predictions / len(data)\n",
    "    return accuracy, predicted_labels\n",
    "\n",
    "\n",
    "# 加载数据\n",
    "file_path = 'semeion.data'\n",
    "features, labels = load_semeion_data(file_path)\n",
    "\n",
    "# 使用自实现 kNN 算法，计算识别精度和预测标签\n",
    "k = 5  # 示例中选一个k值，如5\n",
    "accuracy, self_predicted_labels = loocv_knn(features, labels, k)\n",
    "print(f'Self-implemented kNN (k={k}), Accuracy={accuracy:.4f}')\n",
    "\n",
    "# 使用 scikit-learn 的 kNN 分类器进行对比\n",
    "clf = KNeighborsClassifier(n_neighbors=k)\n",
    "clf.fit(features, labels)\n",
    "sklearn_predicted_labels = clf.predict(features)\n",
    "\n",
    "# 计算 scikit-learn 的性能指标\n",
    "sklearn_accuracy = accuracy_score(labels, sklearn_predicted_labels)\n",
    "print(f'Scikit-learn kNN (k={k}), Accuracy={sklearn_accuracy:.4f}')\n",
    "\n",
    "# 计算归一化互信息（NMI）\n",
    "self_nmi = normalized_mutual_info_score(labels, self_predicted_labels)\n",
    "sklearn_nmi = normalized_mutual_info_score(labels, sklearn_predicted_labels)\n",
    "print(f'Self-implemented kNN (k={k}), NMI={self_nmi:.4f}')\n",
    "print(f'Scikit-learn kNN (k={k}), NMI={sklearn_nmi:.4f}')\n",
    "\n",
    "# 计算混淆熵（CEN），假设用归一化的互信息作为近似\n",
    "self_conf_matrix = confusion_matrix(labels, self_predicted_labels)\n",
    "self_cen = scipy.stats.entropy(self_conf_matrix.flatten())\n",
    "sklearn_conf_matrix = confusion_matrix(labels, sklearn_predicted_labels)\n",
    "sklearn_cen = scipy.stats.entropy(sklearn_conf_matrix.flatten())\n",
    "print(f'Self-implemented kNN (k={k}), CEN={self_cen:.4f}')\n",
    "print(f'Scikit-learn kNN (k={k}), CEN={sklearn_cen:.4f}')\n"
   ]
  },
  {
   "cell_type": "markdown",
   "id": "9cf2e987-96de-44ce-bff7-f0e0d069dd41",
   "metadata": {},
   "source": [
    "## 3.高级要求：\n",
    "### 采用旋转等手段对原始数据进行处理，进行至少两个方向（左上，左下）旋转，采用CNN或其他深度学习方法实现手写体识别"
   ]
  },
  {
   "cell_type": "code",
   "execution_count": 6,
   "id": "ecd40b76-0342-465c-b765-af9c163afdfb",
   "metadata": {},
   "outputs": [
    {
     "name": "stderr",
     "output_type": "stream",
     "text": [
      "C:\\Users\\ZZB\\AppData\\Local\\Programs\\Python\\Python311\\Lib\\site-packages\\keras\\src\\layers\\convolutional\\base_conv.py:107: UserWarning: Do not pass an `input_shape`/`input_dim` argument to a layer. When using Sequential models, prefer using an `Input(shape)` object as the first layer in the model instead.\n",
      "  super().__init__(activity_regularizer=activity_regularizer, **kwargs)\n"
     ]
    },
    {
     "data": {
      "text/html": [
       "<pre style=\"white-space:pre;overflow-x:auto;line-height:normal;font-family:Menlo,'DejaVu Sans Mono',consolas,'Courier New',monospace\"><span style=\"font-weight: bold\">Model: \"sequential\"</span>\n",
       "</pre>\n"
      ],
      "text/plain": [
       "\u001b[1mModel: \"sequential\"\u001b[0m\n"
      ]
     },
     "metadata": {},
     "output_type": "display_data"
    },
    {
     "data": {
      "text/html": [
       "<pre style=\"white-space:pre;overflow-x:auto;line-height:normal;font-family:Menlo,'DejaVu Sans Mono',consolas,'Courier New',monospace\">┏━━━━━━━━━━━━━━━━━━━━━━━━━━━━━━━━━━━━━━┳━━━━━━━━━━━━━━━━━━━━━━━━━━━━━┳━━━━━━━━━━━━━━━━━┓\n",
       "┃<span style=\"font-weight: bold\"> Layer (type)                         </span>┃<span style=\"font-weight: bold\"> Output Shape                </span>┃<span style=\"font-weight: bold\">         Param # </span>┃\n",
       "┡━━━━━━━━━━━━━━━━━━━━━━━━━━━━━━━━━━━━━━╇━━━━━━━━━━━━━━━━━━━━━━━━━━━━━╇━━━━━━━━━━━━━━━━━┩\n",
       "│ conv2d (<span style=\"color: #0087ff; text-decoration-color: #0087ff\">Conv2D</span>)                      │ (<span style=\"color: #00d7ff; text-decoration-color: #00d7ff\">None</span>, <span style=\"color: #00af00; text-decoration-color: #00af00\">14</span>, <span style=\"color: #00af00; text-decoration-color: #00af00\">14</span>, <span style=\"color: #00af00; text-decoration-color: #00af00\">32</span>)          │             <span style=\"color: #00af00; text-decoration-color: #00af00\">320</span> │\n",
       "├──────────────────────────────────────┼─────────────────────────────┼─────────────────┤\n",
       "│ max_pooling2d (<span style=\"color: #0087ff; text-decoration-color: #0087ff\">MaxPooling2D</span>)         │ (<span style=\"color: #00d7ff; text-decoration-color: #00d7ff\">None</span>, <span style=\"color: #00af00; text-decoration-color: #00af00\">7</span>, <span style=\"color: #00af00; text-decoration-color: #00af00\">7</span>, <span style=\"color: #00af00; text-decoration-color: #00af00\">32</span>)            │               <span style=\"color: #00af00; text-decoration-color: #00af00\">0</span> │\n",
       "├──────────────────────────────────────┼─────────────────────────────┼─────────────────┤\n",
       "│ conv2d_1 (<span style=\"color: #0087ff; text-decoration-color: #0087ff\">Conv2D</span>)                    │ (<span style=\"color: #00d7ff; text-decoration-color: #00d7ff\">None</span>, <span style=\"color: #00af00; text-decoration-color: #00af00\">5</span>, <span style=\"color: #00af00; text-decoration-color: #00af00\">5</span>, <span style=\"color: #00af00; text-decoration-color: #00af00\">64</span>)            │          <span style=\"color: #00af00; text-decoration-color: #00af00\">18,496</span> │\n",
       "├──────────────────────────────────────┼─────────────────────────────┼─────────────────┤\n",
       "│ max_pooling2d_1 (<span style=\"color: #0087ff; text-decoration-color: #0087ff\">MaxPooling2D</span>)       │ (<span style=\"color: #00d7ff; text-decoration-color: #00d7ff\">None</span>, <span style=\"color: #00af00; text-decoration-color: #00af00\">2</span>, <span style=\"color: #00af00; text-decoration-color: #00af00\">2</span>, <span style=\"color: #00af00; text-decoration-color: #00af00\">64</span>)            │               <span style=\"color: #00af00; text-decoration-color: #00af00\">0</span> │\n",
       "├──────────────────────────────────────┼─────────────────────────────┼─────────────────┤\n",
       "│ flatten (<span style=\"color: #0087ff; text-decoration-color: #0087ff\">Flatten</span>)                    │ (<span style=\"color: #00d7ff; text-decoration-color: #00d7ff\">None</span>, <span style=\"color: #00af00; text-decoration-color: #00af00\">256</span>)                 │               <span style=\"color: #00af00; text-decoration-color: #00af00\">0</span> │\n",
       "├──────────────────────────────────────┼─────────────────────────────┼─────────────────┤\n",
       "│ dense (<span style=\"color: #0087ff; text-decoration-color: #0087ff\">Dense</span>)                        │ (<span style=\"color: #00d7ff; text-decoration-color: #00d7ff\">None</span>, <span style=\"color: #00af00; text-decoration-color: #00af00\">128</span>)                 │          <span style=\"color: #00af00; text-decoration-color: #00af00\">32,896</span> │\n",
       "├──────────────────────────────────────┼─────────────────────────────┼─────────────────┤\n",
       "│ dense_1 (<span style=\"color: #0087ff; text-decoration-color: #0087ff\">Dense</span>)                      │ (<span style=\"color: #00d7ff; text-decoration-color: #00d7ff\">None</span>, <span style=\"color: #00af00; text-decoration-color: #00af00\">10</span>)                  │           <span style=\"color: #00af00; text-decoration-color: #00af00\">1,290</span> │\n",
       "└──────────────────────────────────────┴─────────────────────────────┴─────────────────┘\n",
       "</pre>\n"
      ],
      "text/plain": [
       "┏━━━━━━━━━━━━━━━━━━━━━━━━━━━━━━━━━━━━━━┳━━━━━━━━━━━━━━━━━━━━━━━━━━━━━┳━━━━━━━━━━━━━━━━━┓\n",
       "┃\u001b[1m \u001b[0m\u001b[1mLayer (type)                        \u001b[0m\u001b[1m \u001b[0m┃\u001b[1m \u001b[0m\u001b[1mOutput Shape               \u001b[0m\u001b[1m \u001b[0m┃\u001b[1m \u001b[0m\u001b[1m        Param #\u001b[0m\u001b[1m \u001b[0m┃\n",
       "┡━━━━━━━━━━━━━━━━━━━━━━━━━━━━━━━━━━━━━━╇━━━━━━━━━━━━━━━━━━━━━━━━━━━━━╇━━━━━━━━━━━━━━━━━┩\n",
       "│ conv2d (\u001b[38;5;33mConv2D\u001b[0m)                      │ (\u001b[38;5;45mNone\u001b[0m, \u001b[38;5;34m14\u001b[0m, \u001b[38;5;34m14\u001b[0m, \u001b[38;5;34m32\u001b[0m)          │             \u001b[38;5;34m320\u001b[0m │\n",
       "├──────────────────────────────────────┼─────────────────────────────┼─────────────────┤\n",
       "│ max_pooling2d (\u001b[38;5;33mMaxPooling2D\u001b[0m)         │ (\u001b[38;5;45mNone\u001b[0m, \u001b[38;5;34m7\u001b[0m, \u001b[38;5;34m7\u001b[0m, \u001b[38;5;34m32\u001b[0m)            │               \u001b[38;5;34m0\u001b[0m │\n",
       "├──────────────────────────────────────┼─────────────────────────────┼─────────────────┤\n",
       "│ conv2d_1 (\u001b[38;5;33mConv2D\u001b[0m)                    │ (\u001b[38;5;45mNone\u001b[0m, \u001b[38;5;34m5\u001b[0m, \u001b[38;5;34m5\u001b[0m, \u001b[38;5;34m64\u001b[0m)            │          \u001b[38;5;34m18,496\u001b[0m │\n",
       "├──────────────────────────────────────┼─────────────────────────────┼─────────────────┤\n",
       "│ max_pooling2d_1 (\u001b[38;5;33mMaxPooling2D\u001b[0m)       │ (\u001b[38;5;45mNone\u001b[0m, \u001b[38;5;34m2\u001b[0m, \u001b[38;5;34m2\u001b[0m, \u001b[38;5;34m64\u001b[0m)            │               \u001b[38;5;34m0\u001b[0m │\n",
       "├──────────────────────────────────────┼─────────────────────────────┼─────────────────┤\n",
       "│ flatten (\u001b[38;5;33mFlatten\u001b[0m)                    │ (\u001b[38;5;45mNone\u001b[0m, \u001b[38;5;34m256\u001b[0m)                 │               \u001b[38;5;34m0\u001b[0m │\n",
       "├──────────────────────────────────────┼─────────────────────────────┼─────────────────┤\n",
       "│ dense (\u001b[38;5;33mDense\u001b[0m)                        │ (\u001b[38;5;45mNone\u001b[0m, \u001b[38;5;34m128\u001b[0m)                 │          \u001b[38;5;34m32,896\u001b[0m │\n",
       "├──────────────────────────────────────┼─────────────────────────────┼─────────────────┤\n",
       "│ dense_1 (\u001b[38;5;33mDense\u001b[0m)                      │ (\u001b[38;5;45mNone\u001b[0m, \u001b[38;5;34m10\u001b[0m)                  │           \u001b[38;5;34m1,290\u001b[0m │\n",
       "└──────────────────────────────────────┴─────────────────────────────┴─────────────────┘\n"
      ]
     },
     "metadata": {},
     "output_type": "display_data"
    },
    {
     "data": {
      "text/html": [
       "<pre style=\"white-space:pre;overflow-x:auto;line-height:normal;font-family:Menlo,'DejaVu Sans Mono',consolas,'Courier New',monospace\"><span style=\"font-weight: bold\"> Total params: </span><span style=\"color: #00af00; text-decoration-color: #00af00\">53,002</span> (207.04 KB)\n",
       "</pre>\n"
      ],
      "text/plain": [
       "\u001b[1m Total params: \u001b[0m\u001b[38;5;34m53,002\u001b[0m (207.04 KB)\n"
      ]
     },
     "metadata": {},
     "output_type": "display_data"
    },
    {
     "data": {
      "text/html": [
       "<pre style=\"white-space:pre;overflow-x:auto;line-height:normal;font-family:Menlo,'DejaVu Sans Mono',consolas,'Courier New',monospace\"><span style=\"font-weight: bold\"> Trainable params: </span><span style=\"color: #00af00; text-decoration-color: #00af00\">53,002</span> (207.04 KB)\n",
       "</pre>\n"
      ],
      "text/plain": [
       "\u001b[1m Trainable params: \u001b[0m\u001b[38;5;34m53,002\u001b[0m (207.04 KB)\n"
      ]
     },
     "metadata": {},
     "output_type": "display_data"
    },
    {
     "data": {
      "text/html": [
       "<pre style=\"white-space:pre;overflow-x:auto;line-height:normal;font-family:Menlo,'DejaVu Sans Mono',consolas,'Courier New',monospace\"><span style=\"font-weight: bold\"> Non-trainable params: </span><span style=\"color: #00af00; text-decoration-color: #00af00\">0</span> (0.00 B)\n",
       "</pre>\n"
      ],
      "text/plain": [
       "\u001b[1m Non-trainable params: \u001b[0m\u001b[38;5;34m0\u001b[0m (0.00 B)\n"
      ]
     },
     "metadata": {},
     "output_type": "display_data"
    },
    {
     "name": "stdout",
     "output_type": "stream",
     "text": [
      "Epoch 1/10\n",
      "\u001b[1m119/119\u001b[0m \u001b[32m━━━━━━━━━━━━━━━━━━━━\u001b[0m\u001b[37m\u001b[0m \u001b[1m1s\u001b[0m 3ms/step - accuracy: 0.4003 - loss: 1.7910 - val_accuracy: 0.7949 - val_loss: 0.6540\n",
      "Epoch 2/10\n",
      "\u001b[1m119/119\u001b[0m \u001b[32m━━━━━━━━━━━━━━━━━━━━\u001b[0m\u001b[37m\u001b[0m \u001b[1m0s\u001b[0m 2ms/step - accuracy: 0.8020 - loss: 0.6189 - val_accuracy: 0.8462 - val_loss: 0.4317\n",
      "Epoch 3/10\n",
      "\u001b[1m119/119\u001b[0m \u001b[32m━━━━━━━━━━━━━━━━━━━━\u001b[0m\u001b[37m\u001b[0m \u001b[1m0s\u001b[0m 2ms/step - accuracy: 0.8775 - loss: 0.4102 - val_accuracy: 0.9231 - val_loss: 0.2988\n",
      "Epoch 4/10\n",
      "\u001b[1m119/119\u001b[0m \u001b[32m━━━━━━━━━━━━━━━━━━━━\u001b[0m\u001b[37m\u001b[0m \u001b[1m0s\u001b[0m 2ms/step - accuracy: 0.9040 - loss: 0.3155 - val_accuracy: 0.9487 - val_loss: 0.2308\n",
      "Epoch 5/10\n",
      "\u001b[1m119/119\u001b[0m \u001b[32m━━━━━━━━━━━━━━━━━━━━\u001b[0m\u001b[37m\u001b[0m \u001b[1m0s\u001b[0m 2ms/step - accuracy: 0.9352 - loss: 0.2240 - val_accuracy: 0.9487 - val_loss: 0.1795\n",
      "Epoch 6/10\n",
      "\u001b[1m119/119\u001b[0m \u001b[32m━━━━━━━━━━━━━━━━━━━━\u001b[0m\u001b[37m\u001b[0m \u001b[1m0s\u001b[0m 2ms/step - accuracy: 0.9509 - loss: 0.1758 - val_accuracy: 0.9487 - val_loss: 0.1441\n",
      "Epoch 7/10\n",
      "\u001b[1m119/119\u001b[0m \u001b[32m━━━━━━━━━━━━━━━━━━━━\u001b[0m\u001b[37m\u001b[0m \u001b[1m0s\u001b[0m 2ms/step - accuracy: 0.9448 - loss: 0.1688 - val_accuracy: 0.9231 - val_loss: 0.1454\n",
      "Epoch 8/10\n",
      "\u001b[1m119/119\u001b[0m \u001b[32m━━━━━━━━━━━━━━━━━━━━\u001b[0m\u001b[37m\u001b[0m \u001b[1m0s\u001b[0m 2ms/step - accuracy: 0.9612 - loss: 0.1243 - val_accuracy: 0.9744 - val_loss: 0.1231\n",
      "Epoch 9/10\n",
      "\u001b[1m119/119\u001b[0m \u001b[32m━━━━━━━━━━━━━━━━━━━━\u001b[0m\u001b[37m\u001b[0m \u001b[1m0s\u001b[0m 2ms/step - accuracy: 0.9737 - loss: 0.0958 - val_accuracy: 0.9487 - val_loss: 0.1449\n",
      "Epoch 10/10\n",
      "\u001b[1m119/119\u001b[0m \u001b[32m━━━━━━━━━━━━━━━━━━━━\u001b[0m\u001b[37m\u001b[0m \u001b[1m0s\u001b[0m 2ms/step - accuracy: 0.9712 - loss: 0.0883 - val_accuracy: 0.9487 - val_loss: 0.1147\n",
      "\u001b[1m30/30\u001b[0m \u001b[32m━━━━━━━━━━━━━━━━━━━━\u001b[0m\u001b[37m\u001b[0m \u001b[1m0s\u001b[0m 856us/step - accuracy: 0.9303 - loss: 0.2026\n",
      "CNN Model Test Accuracy: 0.9299\n"
     ]
    }
   ],
   "source": [
    "import numpy as np\n",
    "import tensorflow as tf\n",
    "from tensorflow.keras.models import Sequential\n",
    "from tensorflow.keras.layers import Conv2D, MaxPooling2D, Flatten, Dense\n",
    "from tensorflow.keras.utils import to_categorical\n",
    "from sklearn.model_selection import train_test_split\n",
    "from skimage.transform import rotate\n",
    "\n",
    "\n",
    "# 加载 Semeion 数据集\n",
    "def load_semeion_data(file_path):\n",
    "    data = np.loadtxt(file_path)\n",
    "    features = data[:, :256].reshape(-1, 16, 16, 1)  # 前256列为特征，转换为16x16图像\n",
    "    labels = np.argmax(data[:, 256:], axis=1)  # 后10列为one-hot编码的标签\n",
    "    return features, labels\n",
    "\n",
    "\n",
    "# 数据增强 - 旋转图像\n",
    "def augment_data(features, labels):\n",
    "    augmented_features = []\n",
    "    augmented_labels = []\n",
    "\n",
    "    for feature, label in zip(features, labels):\n",
    "        augmented_features.append(feature)  # 原始图像\n",
    "        augmented_labels.append(label)\n",
    "\n",
    "        # 旋转图像（左上和左下）\n",
    "        augmented_features.append(rotate(feature, angle=15, mode='wrap'))\n",
    "        augmented_labels.append(label)\n",
    "\n",
    "        augmented_features.append(rotate(feature, angle=-15, mode='wrap'))\n",
    "        augmented_labels.append(label)\n",
    "\n",
    "    return np.array(augmented_features), np.array(augmented_labels)\n",
    "\n",
    "\n",
    "# 构建 CNN 模型\n",
    "def create_cnn_model(input_shape):\n",
    "    model = Sequential()\n",
    "    model.add(Conv2D(32, kernel_size=(3, 3), activation='relu', input_shape=input_shape))\n",
    "    model.add(MaxPooling2D(pool_size=(2, 2)))\n",
    "    model.add(Conv2D(64, kernel_size=(3, 3), activation='relu'))\n",
    "    model.add(MaxPooling2D(pool_size=(2, 2)))\n",
    "    model.add(Flatten())\n",
    "    model.add(Dense(128, activation='relu'))\n",
    "    model.add(Dense(10, activation='softmax'))  # 10 类输出\n",
    "    model.compile(optimizer='adam', loss='categorical_crossentropy', metrics=['accuracy'])\n",
    "    return model\n",
    "\n",
    "\n",
    "# 加载和增强数据\n",
    "file_path = 'semeion.data'  \n",
    "features, labels = load_semeion_data(file_path)\n",
    "augmented_features, augmented_labels = augment_data(features, labels)\n",
    "\n",
    "# 将标签转换为 one-hot 编码\n",
    "augmented_labels = to_categorical(augmented_labels, num_classes=10)\n",
    "\n",
    "# 拆分训练集和测试集\n",
    "X_train, X_test, y_train, y_test = train_test_split(augmented_features, augmented_labels, test_size=0.2,\n",
    "                                                    random_state=42)\n",
    "\n",
    "# 构建和训练 CNN 模型\n",
    "input_shape = (16, 16, 1)\n",
    "cnn_model = create_cnn_model(input_shape)\n",
    "cnn_model.summary()\n",
    "cnn_model.fit(X_train, y_train, epochs=10, batch_size=32, validation_split=0.01)\n",
    "\n",
    "# 在测试集上评估模型\n",
    "test_loss, test_accuracy = cnn_model.evaluate(X_test, y_test)\n",
    "print(f'CNN Model Test Accuracy: {test_accuracy:.4f}')\n"
   ]
  }
 ],
 "metadata": {
  "kernelspec": {
   "display_name": "Python 3 (ipykernel)",
   "language": "python",
   "name": "python3"
  },
  "language_info": {
   "codemirror_mode": {
    "name": "ipython",
    "version": 3
   },
   "file_extension": ".py",
   "mimetype": "text/x-python",
   "name": "python",
   "nbconvert_exporter": "python",
   "pygments_lexer": "ipython3",
   "version": "3.11.8"
  }
 },
 "nbformat": 4,
 "nbformat_minor": 5
}
